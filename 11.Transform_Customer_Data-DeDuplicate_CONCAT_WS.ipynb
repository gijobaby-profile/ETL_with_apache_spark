{
 "cells": [
  {
   "cell_type": "markdown",
   "metadata": {
    "application/vnd.databricks.v1+cell": {
     "cellMetadata": {},
     "inputWidgets": {},
     "nuid": "209892a6-8bce-4e3f-ae2a-a531f76720ae",
     "showTitle": false,
     "tableResultSettingsMap": {},
     "title": ""
    }
   },
   "source": [
    "## Transform Customer data and load into Silver Layer\n",
    "1. Remove records with NULL customer_id.\n",
    "1. Remove exact duplicate records.\n",
    "1. Remove duplicate records based on create_Timestamp.\n",
    "1. Cast the column to the correct data type.\n",
    "1. Write the transformed data to the Silver Layer.\n"
   ]
  },
  {
   "cell_type": "markdown",
   "metadata": {
    "application/vnd.databricks.v1+cell": {
     "cellMetadata": {},
     "inputWidgets": {},
     "nuid": "79b8ccef-40a1-40af-a4f2-cbb349143239",
     "showTitle": false,
     "tableResultSettingsMap": {},
     "title": ""
    }
   },
   "source": [
    "#### 1. Remove records with NULL customer_id.\n"
   ]
  },
  {
   "cell_type": "code",
   "execution_count": 0,
   "metadata": {
    "application/vnd.databricks.v1+cell": {
     "cellMetadata": {
      "byteLimit": 2048000,
      "rowLimit": 10000
     },
     "inputWidgets": {},
     "nuid": "05495870-f00a-48a2-a519-7004662a16c4",
     "showTitle": false,
     "tableResultSettingsMap": {},
     "title": ""
    }
   },
   "outputs": [],
   "source": [
    "select * from gizmobox.bronze.v_customers\n",
    "where customer_id is not null;"
   ]
  },
  {
   "cell_type": "markdown",
   "metadata": {
    "application/vnd.databricks.v1+cell": {
     "cellMetadata": {},
     "inputWidgets": {},
     "nuid": "fc61b66b-691e-465b-8071-2ce50832d84d",
     "showTitle": false,
     "tableResultSettingsMap": {},
     "title": ""
    }
   },
   "source": [
    "#### 2. Remove exact duplicate records."
   ]
  },
  {
   "cell_type": "code",
   "execution_count": 0,
   "metadata": {
    "application/vnd.databricks.v1+cell": {
     "cellMetadata": {
      "byteLimit": 2048000,
      "rowLimit": 10000
     },
     "inputWidgets": {},
     "nuid": "64c208d2-98af-4ef7-a74f-0657dbf2a609",
     "showTitle": false,
     "tableResultSettingsMap": {},
     "title": ""
    }
   },
   "outputs": [],
   "source": [
    "select * from gizmobox.bronze.v_customers\n",
    "where customer_id is not null\n",
    "order by customer_id"
   ]
  },
  {
   "cell_type": "markdown",
   "metadata": {
    "application/vnd.databricks.v1+cell": {
     "cellMetadata": {},
     "inputWidgets": {},
     "nuid": "32e3479b-6c1b-4e26-9a5a-eac731f09972",
     "showTitle": false,
     "tableResultSettingsMap": {},
     "title": ""
    }
   },
   "source": [
    "#### Using Hash functions and CONCAT_WS ( concatinate with seperator)"
   ]
  },
  {
   "cell_type": "code",
   "execution_count": 0,
   "metadata": {
    "application/vnd.databricks.v1+cell": {
     "cellMetadata": {
      "byteLimit": 2048000,
      "rowLimit": 10000
     },
     "inputWidgets": {},
     "nuid": "9a104921-8b6a-4818-a94d-dfbd92028f6d",
     "showTitle": false,
     "tableResultSettingsMap": {},
     "title": ""
    }
   },
   "outputs": [],
   "source": [
    "\n",
    "  select * from (\n",
    "select  SHA1(CONCAT_WS('||', *)) AS hash_val, customer_id, row_number() over(partition by SHA1(CONCAT_WS('||', *)) order by SHA1(CONCAT_WS('||', *))) as rowid\n",
    "    FROM gizmobox.bronze.v_customers\n",
    "    ) A\n",
    "where rowid = 2;\n",
    "\n",
    "create table gizmobox.bronze.customers_test select *  from gizmobox.bronze.v_customers;\n",
    "\n",
    "select * from gizmobox.bronze.customers_test;\n",
    "\n",
    "  select * from (\n",
    "select  SHA1(CONCAT_WS('||', *)) AS hash_val, customer_id, row_number() over(partition by SHA1(CONCAT_WS('||', *)) order by SHA1(CONCAT_WS('||', *))) as rowid\n",
    "    FROM gizmobox.bronze.customers_test\n",
    "    ) A\n",
    "where rowid = 2;"
   ]
  },
  {
   "cell_type": "code",
   "execution_count": 0,
   "metadata": {
    "application/vnd.databricks.v1+cell": {
     "cellMetadata": {
      "byteLimit": 2048000,
      "rowLimit": 10000
     },
     "inputWidgets": {},
     "nuid": "c0ecb1a5-c1c2-4e14-81b3-743f3be12ed7",
     "showTitle": false,
     "tableResultSettingsMap": {},
     "title": ""
    }
   },
   "outputs": [],
   "source": [
    "select concat_ws('||', *),sha1(concat_ws('||', *)) from gizmobox.bronze.customers_test\n"
   ]
  },
  {
   "cell_type": "code",
   "execution_count": 0,
   "metadata": {
    "application/vnd.databricks.v1+cell": {
     "cellMetadata": {},
     "inputWidgets": {},
     "nuid": "e76f542c-3ba4-4328-9ece-00c268deb8ee",
     "showTitle": false,
     "tableResultSettingsMap": {},
     "title": ""
    }
   },
   "outputs": [],
   "source": [
    "with duplicate as (\n",
    "    select * from (\n",
    "select  SHA1(CONCAT_WS('||', *)) AS hash_val, customer_id, row_number() over(partition by SHA1(CONCAT_WS('||', *)) order by SHA1(CONCAT_WS('||', *))) as rowid\n",
    "    FROM gizmobox.bronze.customers_test\n",
    "    ) A\n",
    "where rowid = 2\n",
    ")\n",
    "\n",
    "delete from "
   ]
  },
  {
   "cell_type": "code",
   "execution_count": 0,
   "metadata": {
    "application/vnd.databricks.v1+cell": {
     "cellMetadata": {
      "byteLimit": 2048000,
      "rowLimit": 10000
     },
     "inputWidgets": {},
     "nuid": "997d3f26-bfea-4b7c-b500-76d1465ff323",
     "showTitle": false,
     "tableResultSettingsMap": {},
     "title": ""
    }
   },
   "outputs": [],
   "source": [
    "create or replace temp view v_customers_distinct as\n",
    "select distinct * from gizmobox.bronze.v_customers\n",
    "where customer_id is not null\n",
    "order by customer_id;"
   ]
  },
  {
   "cell_type": "code",
   "execution_count": 0,
   "metadata": {
    "application/vnd.databricks.v1+cell": {
     "cellMetadata": {
      "byteLimit": 2048000,
      "rowLimit": 10000
     },
     "inputWidgets": {},
     "nuid": "ebf1377b-74fc-4462-9785-1c004c49ef29",
     "showTitle": false,
     "tableResultSettingsMap": {},
     "title": ""
    }
   },
   "outputs": [],
   "source": [
    "select \n",
    "customer_id,\n",
    "max(created_timestamp) \n",
    "from v_customers_distinct \n",
    "group by customer_id"
   ]
  },
  {
   "cell_type": "markdown",
   "metadata": {
    "application/vnd.databricks.v1+cell": {
     "cellMetadata": {},
     "inputWidgets": {},
     "nuid": "eea2c67e-26f7-44ce-b5fc-f4d404243b5e",
     "showTitle": false,
     "tableResultSettingsMap": {},
     "title": ""
    }
   },
   "source": [
    "#### 3. Remove duplicate records based on create_Timestamp."
   ]
  },
  {
   "cell_type": "code",
   "execution_count": 0,
   "metadata": {
    "application/vnd.databricks.v1+cell": {
     "cellMetadata": {
      "byteLimit": 2048000,
      "rowLimit": 10000
     },
     "inputWidgets": {},
     "nuid": "bb997585-53f9-4e39-8df9-fa924087aa2d",
     "showTitle": false,
     "tableResultSettingsMap": {},
     "title": ""
    }
   },
   "outputs": [],
   "source": [
    "with cte_max as (\n",
    "select \n",
    "  customer_id,\n",
    "  max(created_timestamp) as max_timestamp\n",
    "from v_customers_distinct \n",
    "group by customer_id\n",
    ")\n",
    "select * from v_customers_distinct a\n",
    "inner join cte_max b\n",
    "on a.customer_id = b.customer_id\n",
    "and a.created_timestamp = b.max_timestamp"
   ]
  },
  {
   "cell_type": "markdown",
   "metadata": {
    "application/vnd.databricks.v1+cell": {
     "cellMetadata": {},
     "inputWidgets": {},
     "nuid": "c12c5776-b8a5-4cd2-b21e-90a5d685441e",
     "showTitle": false,
     "tableResultSettingsMap": {},
     "title": ""
    }
   },
   "source": [
    "#### 4. Cast the column to the correct data type.\n"
   ]
  },
  {
   "cell_type": "code",
   "execution_count": 0,
   "metadata": {
    "application/vnd.databricks.v1+cell": {
     "cellMetadata": {
      "byteLimit": 2048000,
      "rowLimit": 10000
     },
     "inputWidgets": {},
     "nuid": "372f196a-fcde-4cde-ab4b-b7c735188438",
     "showTitle": false,
     "tableResultSettingsMap": {},
     "title": ""
    }
   },
   "outputs": [],
   "source": [
    "with cte_max as (\n",
    "select \n",
    "  customer_id,\n",
    "  max(created_timestamp) as max_timestamp\n",
    "from v_customers_distinct \n",
    "group by customer_id\n",
    ")\n",
    "select \n",
    "  cast(a.created_timestamp as timestamp) as created_timestamp,\n",
    "  a.customer_id,\n",
    "  a.customer_name,\n",
    "  cast(a.date_of_birth as date) as date_of_birth,\n",
    "  a.email,\n",
    "  cast(a.member_since as date) as member_since,\n",
    "  a.telephone \n",
    "from v_customers_distinct a  \n",
    "inner join cte_max b\n",
    "on a.customer_id = b.customer_id\n",
    "and a.created_timestamp = b.max_timestamp"
   ]
  },
  {
   "cell_type": "markdown",
   "metadata": {
    "application/vnd.databricks.v1+cell": {
     "cellMetadata": {},
     "inputWidgets": {},
     "nuid": "28f5ffae-779c-42fe-a325-6bacf0755ed0",
     "showTitle": false,
     "tableResultSettingsMap": {},
     "title": ""
    }
   },
   "source": [
    "#### 5. Write the transformed data to the Delta table in Silver Layer."
   ]
  },
  {
   "cell_type": "code",
   "execution_count": 0,
   "metadata": {
    "application/vnd.databricks.v1+cell": {
     "cellMetadata": {
      "byteLimit": 2048000,
      "rowLimit": 10000
     },
     "inputWidgets": {},
     "nuid": "3d215696-72ae-4396-a978-7472c90f921f",
     "showTitle": false,
     "tableResultSettingsMap": {},
     "title": ""
    }
   },
   "outputs": [],
   "source": [
    "CREATE TABLE gizmobox.silver.customers as\n",
    "with cte_max as (\n",
    "select \n",
    "  customer_id,\n",
    "  max(created_timestamp) as max_timestamp\n",
    "from v_customers_distinct \n",
    "group by customer_id\n",
    ")\n",
    "select \n",
    "  cast(a.created_timestamp as timestamp) as created_timestamp,\n",
    "  a.customer_id,\n",
    "  a.customer_name,\n",
    "  cast(a.date_of_birth as date) as date_of_birth,\n",
    "  a.email,\n",
    "  cast(a.member_since as date) as member_since,\n",
    "  a.telephone \n",
    "from v_customers_distinct a  \n",
    "inner join cte_max b\n",
    "on a.customer_id = b.customer_id\n",
    "and a.created_timestamp = b.max_timestamp"
   ]
  },
  {
   "cell_type": "code",
   "execution_count": 0,
   "metadata": {
    "application/vnd.databricks.v1+cell": {
     "cellMetadata": {
      "byteLimit": 2048000,
      "rowLimit": 10000
     },
     "inputWidgets": {},
     "nuid": "31c07af2-9af7-42f8-ac77-420f14e585a3",
     "showTitle": false,
     "tableResultSettingsMap": {},
     "title": ""
    }
   },
   "outputs": [],
   "source": [
    "select * from gizmobox.silver.customers"
   ]
  }
 ],
 "metadata": {
  "application/vnd.databricks.v1+notebook": {
   "computePreferences": null,
   "dashboards": [],
   "environmentMetadata": {
    "base_environment": "",
    "environment_version": "2"
   },
   "inputWidgetPreferences": null,
   "language": "sql",
   "notebookMetadata": {
    "pythonIndentUnit": 4
   },
   "notebookName": "11.Transform_Customer_Data-DeDuplicate_CONCAT_WS",
   "widgets": {}
  },
  "language_info": {
   "name": "sql"
  }
 },
 "nbformat": 4,
 "nbformat_minor": 0
}
