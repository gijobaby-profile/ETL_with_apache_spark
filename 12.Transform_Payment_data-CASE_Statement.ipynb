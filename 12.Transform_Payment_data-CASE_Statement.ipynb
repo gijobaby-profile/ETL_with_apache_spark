{
 "cells": [
  {
   "cell_type": "markdown",
   "metadata": {
    "application/vnd.databricks.v1+cell": {
     "cellMetadata": {},
     "inputWidgets": {},
     "nuid": "4a09c702-2972-4990-93e7-95e5d2d2d6f3",
     "showTitle": false,
     "tableResultSettingsMap": {},
     "title": ""
    }
   },
   "source": [
    "## Transform Payment Data\n",
    "1. Extract date and timestamp from payment_timestamp and create a new columns payment_date, Payment_time\n",
    "1. Map Payemnt_status to contain descriptive values ( 1. Success, 2. Pending, 3. Cancelled, 4. failed)\n",
    "1. Write data to the Silver schema"
   ]
  },
  {
   "cell_type": "markdown",
   "metadata": {
    "application/vnd.databricks.v1+cell": {
     "cellMetadata": {},
     "inputWidgets": {},
     "nuid": "24b3e4b8-def7-4ad3-a8a5-d03504989d76",
     "showTitle": false,
     "tableResultSettingsMap": {},
     "title": ""
    }
   },
   "source": [
    "#### Extract date and timestamp from payment_timestamp and create a new columns payment_date, Payment_time\n"
   ]
  },
  {
   "cell_type": "code",
   "execution_count": 0,
   "metadata": {
    "application/vnd.databricks.v1+cell": {
     "cellMetadata": {
      "byteLimit": 2048000,
      "rowLimit": 10000
     },
     "inputWidgets": {},
     "nuid": "e51952b0-0d50-49e9-bc2f-2a6b71a65bb1",
     "showTitle": false,
     "tableResultSettingsMap": {},
     "title": ""
    }
   },
   "outputs": [],
   "source": [
    "select \n",
    "   paymentId as payment_id,\n",
    "   order_id,\n",
    "   payment_timestamp,\n",
    "   cast(date_format(payment_timestamp, 'yyyy-MM-dd') as date) as payment_date,\n",
    "   date_format(payment_timestamp, 'HH:mm:ss') as payment_time,\n",
    "   payment_status,\n",
    "   payment_method  \n",
    "from gizmobox.bronze.payments"
   ]
  },
  {
   "cell_type": "markdown",
   "metadata": {
    "application/vnd.databricks.v1+cell": {
     "cellMetadata": {},
     "inputWidgets": {},
     "nuid": "2835df9a-d5bf-4eac-855f-3a1cc7bdbcd3",
     "showTitle": false,
     "tableResultSettingsMap": {},
     "title": ""
    }
   },
   "source": [
    "#### Map Payemnt_status to contain descriptive values ( 1. Success, 2. Pending, 3. Cancelled, 4. failed)\n"
   ]
  },
  {
   "cell_type": "code",
   "execution_count": 0,
   "metadata": {
    "application/vnd.databricks.v1+cell": {
     "cellMetadata": {
      "byteLimit": 2048000,
      "rowLimit": 10000
     },
     "inputWidgets": {},
     "nuid": "ab81b441-ee50-432b-bba0-103a856fa1c7",
     "showTitle": false,
     "tableResultSettingsMap": {},
     "title": ""
    }
   },
   "outputs": [],
   "source": [
    "select \n",
    "   paymentId as payment_id,\n",
    "   order_id,\n",
    "   cast(date_format(payment_timestamp, 'yyyy-MM-dd') as date) as payment_date,\n",
    "   date_format(payment_timestamp, 'HH:mm:ss') as payment_time,\n",
    "   case when payment_status = 1 then 'Success'\n",
    "        when payment_status = 2 then 'Pending'\n",
    "        when payment_status = 3 then 'Cancellation'\n",
    "        when payment_status = 4 then 'Failed' \n",
    "        end as payment_status,\n",
    "   payment_method  \n",
    "from gizmobox.bronze.payments"
   ]
  },
  {
   "cell_type": "markdown",
   "metadata": {
    "application/vnd.databricks.v1+cell": {
     "cellMetadata": {},
     "inputWidgets": {},
     "nuid": "c9529a7d-bc49-498f-b79e-a6c3a3c7c66e",
     "showTitle": false,
     "tableResultSettingsMap": {},
     "title": ""
    }
   },
   "source": [
    "#### Write data to the Silver schema"
   ]
  },
  {
   "cell_type": "code",
   "execution_count": 0,
   "metadata": {
    "application/vnd.databricks.v1+cell": {
     "cellMetadata": {
      "byteLimit": 2048000,
      "rowLimit": 10000
     },
     "inputWidgets": {},
     "nuid": "55f176c2-92fa-4de1-8406-f31bc95fa4ef",
     "showTitle": false,
     "tableResultSettingsMap": {},
     "title": ""
    }
   },
   "outputs": [],
   "source": [
    "CREATE TABLE IF NOT EXISTS gizmobox.silver.payments as\n",
    "select \n",
    "   paymentId as payment_id,\n",
    "   order_id,\n",
    "   cast(date_format(payment_timestamp, 'yyyy-MM-dd') as date) as payment_date,\n",
    "   date_format(payment_timestamp, 'HH:mm:ss') as payment_time,\n",
    "   case when payment_status = 1 then 'Success'\n",
    "        when payment_status = 2 then 'Pending'\n",
    "        when payment_status = 3 then 'Cancellation'\n",
    "        when payment_status = 4 then 'Failed' \n",
    "        end as payment_status,\n",
    "   payment_method  \n",
    "from gizmobox.bronze.payments"
   ]
  },
  {
   "cell_type": "code",
   "execution_count": 0,
   "metadata": {
    "application/vnd.databricks.v1+cell": {
     "cellMetadata": {
      "byteLimit": 2048000,
      "rowLimit": 10000
     },
     "inputWidgets": {},
     "nuid": "538fdc98-deb4-4f6c-869f-2aded7661487",
     "showTitle": false,
     "tableResultSettingsMap": {},
     "title": ""
    }
   },
   "outputs": [],
   "source": [
    "describe extended gizmobox.silver.payments"
   ]
  }
 ],
 "metadata": {
  "application/vnd.databricks.v1+notebook": {
   "computePreferences": null,
   "dashboards": [],
   "environmentMetadata": {
    "base_environment": "",
    "environment_version": "2"
   },
   "inputWidgetPreferences": null,
   "language": "sql",
   "notebookMetadata": {},
   "notebookName": "12.Transform_Payment_data-CASE_Statement",
   "widgets": {}
  },
  "language_info": {
   "name": "sql"
  }
 },
 "nbformat": 4,
 "nbformat_minor": 0
}
