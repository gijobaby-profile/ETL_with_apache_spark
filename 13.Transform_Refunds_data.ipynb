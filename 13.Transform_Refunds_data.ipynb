{
 "cells": [
  {
   "cell_type": "markdown",
   "metadata": {
    "application/vnd.databricks.v1+cell": {
     "cellMetadata": {},
     "inputWidgets": {},
     "nuid": "7b2ac6d7-031f-4a43-85d2-9332546f6861",
     "showTitle": false,
     "tableResultSettingsMap": {},
     "title": ""
    }
   },
   "source": [
    "## Transforms Refunds data\n",
    "1. Extract specific portion of the string from the refund_reason using split function\n",
    "1. Extract specific portion of the string from the refund_reason using regexp_extract function\n",
    "1. Extract date and time from refund_timestamp\n",
    "1. Write transformed data into Silver layer in Hive Metastore"
   ]
  },
  {
   "cell_type": "code",
   "execution_count": 0,
   "metadata": {
    "application/vnd.databricks.v1+cell": {
     "cellMetadata": {
      "byteLimit": 2048000,
      "rowLimit": 10000
     },
     "inputWidgets": {},
     "nuid": "178441b4-5c08-4d55-863b-1aaf8a1f4151",
     "showTitle": false,
     "tableResultSettingsMap": {},
     "title": ""
    }
   },
   "outputs": [],
   "source": [
    "select   \n",
    "  refund_id,\n",
    "  payment_id,\n",
    "  refund_timestamp,\n",
    "  refund_amount,\n",
    "  refund_reason\n",
    "from hive_metastore.bronze.refunds;"
   ]
  },
  {
   "cell_type": "markdown",
   "metadata": {
    "application/vnd.databricks.v1+cell": {
     "cellMetadata": {},
     "inputWidgets": {},
     "nuid": "7a32b272-4734-4861-9edd-a75028b03040",
     "showTitle": false,
     "tableResultSettingsMap": {},
     "title": ""
    }
   },
   "source": [
    "#### Extract specific portion of the string from the refund_reason using split function\n"
   ]
  },
  {
   "cell_type": "code",
   "execution_count": 0,
   "metadata": {
    "application/vnd.databricks.v1+cell": {
     "cellMetadata": {
      "byteLimit": 2048000,
      "rowLimit": 10000
     },
     "inputWidgets": {},
     "nuid": "b5686e55-4dc5-44d3-a651-6070669a11e9",
     "showTitle": false,
     "tableResultSettingsMap": {},
     "title": ""
    }
   },
   "outputs": [],
   "source": [
    "select   \n",
    "  refund_id,\n",
    "  payment_id,\n",
    "  refund_timestamp,\n",
    "  refund_amount,\n",
    "  refund_reason,\n",
    "  SPLIT(refund_reason,':') as test,\n",
    "  SPLIT(refund_reason,':')[0] as refund_reason,\n",
    "  SPLIT(refund_reason,':')[1] as refund_source\n",
    "from hive_metastore.bronze.refunds;"
   ]
  },
  {
   "cell_type": "markdown",
   "metadata": {
    "application/vnd.databricks.v1+cell": {
     "cellMetadata": {},
     "inputWidgets": {},
     "nuid": "3d5b65cf-7707-435d-8ded-b492b4482cfd",
     "showTitle": false,
     "tableResultSettingsMap": {},
     "title": ""
    }
   },
   "source": [
    "#### Extract specific portion of the string from the refund_reason using regexp_extract function\n"
   ]
  },
  {
   "cell_type": "markdown",
   "metadata": {
    "application/vnd.databricks.v1+cell": {
     "cellMetadata": {},
     "inputWidgets": {},
     "nuid": "c66c96b9-8de6-4a74-9aa8-6bdd6da2678f",
     "showTitle": false,
     "tableResultSettingsMap": {},
     "title": ""
    }
   },
   "source": [
    "#### Extract date and time from refund_timestamp\n"
   ]
  },
  {
   "cell_type": "markdown",
   "metadata": {
    "application/vnd.databricks.v1+cell": {
     "cellMetadata": {},
     "inputWidgets": {},
     "nuid": "483a1033-f4c2-4549-8d0d-6372cce6f221",
     "showTitle": false,
     "tableResultSettingsMap": {},
     "title": ""
    }
   },
   "source": [
    "#### Write transformed data into Silver layer in Hive Metastore"
   ]
  }
 ],
 "metadata": {
  "application/vnd.databricks.v1+notebook": {
   "computePreferences": null,
   "dashboards": [],
   "environmentMetadata": {
    "base_environment": "",
    "environment_version": "2"
   },
   "inputWidgetPreferences": null,
   "language": "sql",
   "notebookMetadata": {},
   "notebookName": "13.Transform_Refunds_data",
   "widgets": {}
  },
  "language_info": {
   "name": "sql"
  }
 },
 "nbformat": 4,
 "nbformat_minor": 0
}
