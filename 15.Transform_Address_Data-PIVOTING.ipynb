{
 "cells": [
  {
   "cell_type": "markdown",
   "metadata": {
    "application/vnd.databricks.v1+cell": {
     "cellMetadata": {},
     "inputWidgets": {},
     "nuid": "8d6d9cfd-a28a-4e84-ba66-73273c578a1a",
     "showTitle": false,
     "tableResultSettingsMap": {},
     "title": ""
    }
   },
   "source": [
    "## Transform Address data ( PIVOTING)\n",
    "1. Create one record for each customer with 2 address, one for shipping and another for billing address \n",
    "1. Write tarnsformed data into silver layer"
   ]
  },
  {
   "cell_type": "code",
   "execution_count": 0,
   "metadata": {
    "application/vnd.databricks.v1+cell": {
     "cellMetadata": {
      "byteLimit": 2048000,
      "rowLimit": 10000
     },
     "inputWidgets": {},
     "nuid": "6d068316-61bf-44d4-a55d-1ba756c40fca",
     "showTitle": false,
     "tableResultSettingsMap": {},
     "title": ""
    }
   },
   "outputs": [],
   "source": [
    "show create table gizmobox.bronze.v_addresses"
   ]
  },
  {
   "cell_type": "code",
   "execution_count": 0,
   "metadata": {
    "application/vnd.databricks.v1+cell": {
     "cellMetadata": {
      "byteLimit": 2048000,
      "rowLimit": 10000
     },
     "inputWidgets": {},
     "nuid": "c533a072-1592-4e0c-b24d-e9527aa4a05d",
     "showTitle": false,
     "tableResultSettingsMap": {},
     "title": ""
    }
   },
   "outputs": [],
   "source": [
    "select \n",
    "  customer_id,\n",
    "  address_type,\n",
    "  address_line_1,\n",
    "  city,\n",
    "  state,\n",
    "  postcode\n",
    "from  gizmobox.bronze.v_addresses\n",
    "order by customer_id;"
   ]
  },
  {
   "cell_type": "code",
   "execution_count": 0,
   "metadata": {
    "application/vnd.databricks.v1+cell": {
     "cellMetadata": {
      "byteLimit": 2048000,
      "rowLimit": 10000
     },
     "inputWidgets": {},
     "nuid": "a69d2740-dcd4-4285-85ae-48791bc3f40e",
     "showTitle": false,
     "tableResultSettingsMap": {},
     "title": ""
    }
   },
   "outputs": [],
   "source": [
    "select *\n",
    "from (\n",
    "    select \n",
    "      customer_id,\n",
    "      address_type,\n",
    "      address_line_1,\n",
    "      city,\n",
    "      state,\n",
    "      postcode\n",
    "    from  gizmobox.bronze.v_addresses\n",
    ")\n",
    "PIVOT ( MAX(address_line_1) as address_line_1,\n",
    "        MAX(city) as city,\n",
    "        MAX(state) as state,\n",
    "        MAX(postcode) as postcode\n",
    "      for address_type in ('shipping', 'billing')\n",
    ")"
   ]
  },
  {
   "cell_type": "code",
   "execution_count": 0,
   "metadata": {
    "application/vnd.databricks.v1+cell": {
     "cellMetadata": {
      "byteLimit": 2048000,
      "rowLimit": 10000
     },
     "inputWidgets": {},
     "nuid": "ecfaaa6f-19a7-4595-9bc1-36cfca64e2e3",
     "showTitle": false,
     "tableResultSettingsMap": {},
     "title": ""
    }
   },
   "outputs": [],
   "source": [
    "create table gizmobox.silver.addresses\n",
    "as\n",
    "select *\n",
    "from (\n",
    "    select \n",
    "      customer_id,\n",
    "      address_type,\n",
    "      address_line_1,\n",
    "      city,\n",
    "      state,\n",
    "      postcode\n",
    "    from  gizmobox.bronze.v_addresses\n",
    ")\n",
    "PIVOT ( MAX(address_line_1) as address_line_1,\n",
    "        MAX(city) as city,\n",
    "        MAX(state) as state,\n",
    "        MAX(postcode) as postcode\n",
    "      for address_type in ('shipping', 'billing')\n",
    ")"
   ]
  },
  {
   "cell_type": "code",
   "execution_count": 0,
   "metadata": {
    "application/vnd.databricks.v1+cell": {
     "cellMetadata": {
      "byteLimit": 2048000,
      "rowLimit": 10000
     },
     "inputWidgets": {},
     "nuid": "0c3f60fb-65ca-4450-b3db-394dd20021a8",
     "showTitle": false,
     "tableResultSettingsMap": {},
     "title": ""
    }
   },
   "outputs": [],
   "source": [
    "select * from gizmobox.silver.addresses"
   ]
  }
 ],
 "metadata": {
  "application/vnd.databricks.v1+notebook": {
   "computePreferences": null,
   "dashboards": [],
   "environmentMetadata": {
    "base_environment": "",
    "environment_version": "2"
   },
   "inputWidgetPreferences": null,
   "language": "sql",
   "notebookMetadata": {
    "pythonIndentUnit": 4
   },
   "notebookName": "15.Transform_Address_Data-PIVOTING",
   "widgets": {}
  },
  "language_info": {
   "name": "sql"
  }
 },
 "nbformat": 4,
 "nbformat_minor": 0
}
