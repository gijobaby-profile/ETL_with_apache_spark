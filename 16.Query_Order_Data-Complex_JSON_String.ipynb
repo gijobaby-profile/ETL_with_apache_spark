{
 "cells": [
  {
   "cell_type": "markdown",
   "metadata": {
    "application/vnd.databricks.v1+cell": {
     "cellMetadata": {},
     "inputWidgets": {},
     "nuid": "ef4eb823-cecc-47cc-a109-709afc550de3",
     "showTitle": false,
     "tableResultSettingsMap": {},
     "title": ""
    }
   },
   "source": [
    "## Query order data as JSON String \n",
    "###### Note : ( The JSON file that are already read using TEXT format, which has complex structure and issues)\n",
    "1. Extract top level column values\n",
    "1. Extract Array elements ( if we have multiple Arrays in the JSON text)\n",
    "1. Extract Nexted column  values\n",
    "1. Cast column value to a specific Data Type\n",
    "\n"
   ]
  },
  {
   "cell_type": "code",
   "execution_count": 0,
   "metadata": {
    "application/vnd.databricks.v1+cell": {
     "cellMetadata": {
      "byteLimit": 2048000,
      "rowLimit": 10000
     },
     "inputWidgets": {},
     "nuid": "c931f581-5356-4223-9a99-3bc604962f01",
     "showTitle": false,
     "tableResultSettingsMap": {},
     "title": ""
    }
   },
   "outputs": [],
   "source": [
    "select * from gizmobox.bronze.v_orders"
   ]
  },
  {
   "cell_type": "markdown",
   "metadata": {
    "application/vnd.databricks.v1+cell": {
     "cellMetadata": {},
     "inputWidgets": {},
     "nuid": "b2631f65-0336-4b63-b81d-125a65ab5c79",
     "showTitle": false,
     "tableResultSettingsMap": {},
     "title": ""
    }
   },
   "source": [
    "#### Extract top level column values\n",
    " Top level object = Column_Name : Extration_Path\n",
    "1. Note: if the JSON string is invalid the entire record will be null when we extract data eg : Order_id=2, the order_date is not a string hence the entire record will not be readed\n"
   ]
  },
  {
   "cell_type": "code",
   "execution_count": 0,
   "metadata": {
    "application/vnd.databricks.v1+cell": {
     "cellMetadata": {
      "byteLimit": 2048000,
      "rowLimit": 10000
     },
     "inputWidgets": {},
     "nuid": "890c6930-2778-4abb-b6ba-b5e67aebb906",
     "showTitle": false,
     "tableResultSettingsMap": {},
     "title": ""
    }
   },
   "outputs": [],
   "source": [
    "select \n",
    "    value:order_id as order_id,\n",
    "    value:customer_id as customer_id,\n",
    "    value\n",
    "from gizmobox.bronze.v_orders\n"
   ]
  },
  {
   "cell_type": "markdown",
   "metadata": {
    "application/vnd.databricks.v1+cell": {
     "cellMetadata": {},
     "inputWidgets": {},
     "nuid": "a593914c-53d5-469b-aa1e-12f3e2700f92",
     "showTitle": false,
     "tableResultSettingsMap": {},
     "title": ""
    }
   },
   "source": [
    "#### Extract Array elements ( if we have multiple Arrays in the JSON text)\n",
    "To Extract Array Element - use the index in the bracket ==> Column_Name : Extration_Path[index]"
   ]
  },
  {
   "cell_type": "code",
   "execution_count": 0,
   "metadata": {
    "application/vnd.databricks.v1+cell": {
     "cellMetadata": {
      "byteLimit": 2048000,
      "rowLimit": 10000
     },
     "inputWidgets": {},
     "nuid": "4fd2f5ce-33a7-48c1-b3fb-f9a287404759",
     "showTitle": false,
     "tableResultSettingsMap": {},
     "title": ""
    }
   },
   "outputs": [],
   "source": [
    "select \n",
    "    value:items[0] as item_1,\n",
    "    value:items[1] as item_2,\n",
    "    value\n",
    "from gizmobox.bronze.v_orders"
   ]
  },
  {
   "cell_type": "markdown",
   "metadata": {
    "application/vnd.databricks.v1+cell": {
     "cellMetadata": {},
     "inputWidgets": {},
     "nuid": "3c7f987f-946e-4ece-867b-a7ff2eba5d3b",
     "showTitle": false,
     "tableResultSettingsMap": {},
     "title": ""
    }
   },
   "source": [
    "#### Extract Nexted column  values\n",
    "To extract the nested column values inside the Array of the JSON, need to use dot notation \n",
    "eg :  Column_Name : ArrayName[index].leafName\n"
   ]
  },
  {
   "cell_type": "code",
   "execution_count": 0,
   "metadata": {
    "application/vnd.databricks.v1+cell": {
     "cellMetadata": {
      "byteLimit": 2048000,
      "rowLimit": 10000
     },
     "inputWidgets": {},
     "nuid": "937e78c5-e087-4984-b59d-0b478530b9fb",
     "showTitle": false,
     "tableResultSettingsMap": {},
     "title": ""
    }
   },
   "outputs": [],
   "source": [
    "select \n",
    "    value:items[0].item_id as Item_1_Item_id,\n",
    "    value:items[0].name as Item_1_name,\n",
    "    value:items[0].category as Item_1_category,\n",
    "\n",
    "    value:items[0] as item_1,\n",
    "    value:items[1] as item_2,\n",
    "    value\n",
    "from gizmobox.bronze.v_orders"
   ]
  },
  {
   "cell_type": "markdown",
   "metadata": {
    "application/vnd.databricks.v1+cell": {
     "cellMetadata": {},
     "inputWidgets": {},
     "nuid": "e0d89673-55d0-4c70-957f-dfce8ca4d009",
     "showTitle": false,
     "tableResultSettingsMap": {},
     "title": ""
    }
   },
   "source": [
    "#### Cast column value to a specific Data Type"
   ]
  },
  {
   "cell_type": "code",
   "execution_count": 0,
   "metadata": {
    "application/vnd.databricks.v1+cell": {
     "cellMetadata": {
      "byteLimit": 2048000,
      "rowLimit": 10000
     },
     "inputWidgets": {},
     "nuid": "cea4180a-5abf-4e3b-b0f2-d69e8e7828d3",
     "showTitle": false,
     "tableResultSettingsMap": {},
     "title": ""
    }
   },
   "outputs": [],
   "source": [
    "select \n",
    "    value:items[0].item_id :: integer as Item_1_Item_id,\n",
    "    value:items[0].name as Item_1_name,\n",
    "    value:items[0].category as Item_1_category,\n",
    "\n",
    "    value:items[0] as item_1,\n",
    "    value:items[1] as item_2,\n",
    "    value\n",
    "from gizmobox.bronze.v_orders"
   ]
  }
 ],
 "metadata": {
  "application/vnd.databricks.v1+notebook": {
   "computePreferences": null,
   "dashboards": [],
   "environmentMetadata": {
    "base_environment": "",
    "environment_version": "2"
   },
   "inputWidgetPreferences": null,
   "language": "sql",
   "notebookMetadata": {},
   "notebookName": "16.Query_Order_Data-Complex_JSON_String",
   "widgets": {}
  },
  "language_info": {
   "name": "sql"
  }
 },
 "nbformat": 4,
 "nbformat_minor": 0
}
