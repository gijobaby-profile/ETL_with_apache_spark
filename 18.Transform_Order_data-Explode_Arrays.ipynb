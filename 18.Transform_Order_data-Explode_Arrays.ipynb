{
 "cells": [
  {
   "cell_type": "code",
   "execution_count": 0,
   "metadata": {
    "application/vnd.databricks.v1+cell": {
     "cellMetadata": {},
     "inputWidgets": {},
     "nuid": "07bd570d-7e2c-4dd9-9462-74c3d680fbe1",
     "showTitle": false,
     "tableResultSettingsMap": {},
     "title": ""
    }
   },
   "outputs": [],
   "source": []
  },
  {
   "cell_type": "markdown",
   "metadata": {
    "application/vnd.databricks.v1+cell": {
     "cellMetadata": {},
     "inputWidgets": {},
     "nuid": "0089d163-1b51-458e-9dd7-884efe6bfc3a",
     "showTitle": false,
     "tableResultSettingsMap": {},
     "title": ""
    }
   },
   "source": [
    "## Transform Order data ( JSON Object ) - Explode Arrays\n",
    "1. Access element from the JSON object\n",
    "1. De-Duplicate array elements\n",
    "1. Explode Array\n",
    "1. Write the transformed data to Silver schema"
   ]
  },
  {
   "cell_type": "code",
   "execution_count": 0,
   "metadata": {
    "application/vnd.databricks.v1+cell": {
     "cellMetadata": {
      "byteLimit": 2048000,
      "rowLimit": 10000
     },
     "inputWidgets": {},
     "nuid": "80e33523-f73d-4258-b0cc-8de6e6761633",
     "showTitle": false,
     "tableResultSettingsMap": {},
     "title": ""
    }
   },
   "outputs": [],
   "source": [
    "select * from gizmobox.silver.orders_json"
   ]
  },
  {
   "cell_type": "markdown",
   "metadata": {
    "application/vnd.databricks.v1+cell": {
     "cellMetadata": {},
     "inputWidgets": {},
     "nuid": "e8693984-3b0f-430e-b822-b7eb7b183294",
     "showTitle": false,
     "tableResultSettingsMap": {},
     "title": ""
    }
   },
   "source": [
    "#### Access element from the JSON object\n"
   ]
  },
  {
   "cell_type": "code",
   "execution_count": 0,
   "metadata": {
    "application/vnd.databricks.v1+cell": {
     "cellMetadata": {
      "byteLimit": 2048000,
      "rowLimit": 10000
     },
     "inputWidgets": {},
     "nuid": "bad568a5-8114-48aa-86dd-8d7cd22d81e0",
     "showTitle": false,
     "tableResultSettingsMap": {},
     "title": ""
    }
   },
   "outputs": [],
   "source": [
    "select \n",
    "       json_value.order_id,\n",
    "       json_value.order_status,\n",
    "       json_value.payment_method,\n",
    "       json_value.total_amount,\n",
    "       json_value.transaction_timestamp,\n",
    "       json_value.customer_id,\n",
    "       json_value.items\n",
    " from gizmobox.silver.orders_json"
   ]
  },
  {
   "cell_type": "markdown",
   "metadata": {
    "application/vnd.databricks.v1+cell": {
     "cellMetadata": {},
     "inputWidgets": {},
     "nuid": "4aef4467-6e50-481e-8272-99bc2814a145",
     "showTitle": false,
     "tableResultSettingsMap": {},
     "title": ""
    }
   },
   "source": [
    "#### Check for Duplicate array elements\n"
   ]
  },
  {
   "cell_type": "code",
   "execution_count": 0,
   "metadata": {
    "application/vnd.databricks.v1+cell": {
     "cellMetadata": {
      "byteLimit": 2048000,
      "rowLimit": 10000
     },
     "inputWidgets": {},
     "nuid": "cc41d1d2-e043-4f19-8878-6a59b9c62eb7",
     "showTitle": false,
     "tableResultSettingsMap": {},
     "title": ""
    }
   },
   "outputs": [],
   "source": [
    "select \n",
    "  size(json_value.items) as count,\n",
    "  size(array_distinct(json_value.items)),\n",
    "  case when size(json_value.items) <> size(array_distinct(json_value.items)) then 'Have Duplicate'\n",
    "       else \"No duplicate\" end as Dup_Check,\n",
    "  json_value.items\n",
    " from gizmobox.silver.orders_json group by json_value.items\n"
   ]
  },
  {
   "cell_type": "markdown",
   "metadata": {
    "application/vnd.databricks.v1+cell": {
     "cellMetadata": {},
     "inputWidgets": {},
     "nuid": "2d5bac3d-3822-4c2c-a91c-e037a5c3559e",
     "showTitle": false,
     "tableResultSettingsMap": {},
     "title": ""
    }
   },
   "source": [
    "#### De-Duplicate array elements"
   ]
  },
  {
   "cell_type": "code",
   "execution_count": 0,
   "metadata": {
    "application/vnd.databricks.v1+cell": {
     "cellMetadata": {
      "byteLimit": 2048000,
      "rowLimit": 10000
     },
     "inputWidgets": {},
     "nuid": "565632e7-f38c-4751-83a8-92df70b119ab",
     "showTitle": false,
     "tableResultSettingsMap": {},
     "title": ""
    }
   },
   "outputs": [],
   "source": [
    "select \n",
    "       json_value.order_id,\n",
    "       json_value.order_status,\n",
    "       json_value.payment_method,\n",
    "       json_value.total_amount,\n",
    "       json_value.transaction_timestamp,\n",
    "       json_value.customer_id,\n",
    "       array_distinct(json_value.items) as items\n",
    " from gizmobox.silver.orders_json"
   ]
  },
  {
   "cell_type": "markdown",
   "metadata": {
    "application/vnd.databricks.v1+cell": {
     "cellMetadata": {},
     "inputWidgets": {},
     "nuid": "96f8b8d2-878f-42fa-a0ad-f6638ca633fd",
     "showTitle": false,
     "tableResultSettingsMap": {},
     "title": ""
    }
   },
   "source": [
    "#### Explode Array\n"
   ]
  },
  {
   "cell_type": "code",
   "execution_count": 0,
   "metadata": {
    "application/vnd.databricks.v1+cell": {
     "cellMetadata": {
      "byteLimit": 2048000,
      "rowLimit": 10000
     },
     "inputWidgets": {},
     "nuid": "45ab61d6-69f9-425b-8393-3bd597982fcd",
     "showTitle": false,
     "tableResultSettingsMap": {},
     "title": ""
    }
   },
   "outputs": [],
   "source": [
    "create or replace temp view v_orders_explode\n",
    "as\n",
    "select \n",
    "       json_value.order_id,\n",
    "       json_value.order_status,\n",
    "       json_value.payment_method,\n",
    "       json_value.total_amount,\n",
    "       json_value.transaction_timestamp,\n",
    "       json_value.customer_id,\n",
    "       explode(array_distinct(json_value.items)) as item\n",
    " from gizmobox.silver.orders_json"
   ]
  },
  {
   "cell_type": "code",
   "execution_count": 0,
   "metadata": {
    "application/vnd.databricks.v1+cell": {
     "cellMetadata": {
      "byteLimit": 2048000,
      "rowLimit": 10000
     },
     "inputWidgets": {},
     "nuid": "cfeb31f8-494f-411c-8e33-db517887211a",
     "showTitle": false,
     "tableResultSettingsMap": {},
     "title": ""
    }
   },
   "outputs": [],
   "source": [
    "select * from v_orders_explode"
   ]
  },
  {
   "cell_type": "code",
   "execution_count": 0,
   "metadata": {
    "application/vnd.databricks.v1+cell": {
     "cellMetadata": {},
     "inputWidgets": {},
     "nuid": "6b88af28-7dce-48af-a66d-7633268de8dd",
     "showTitle": false,
     "tableResultSettingsMap": {},
     "title": ""
    }
   },
   "outputs": [],
   "source": [
    "select \n",
    "       order_id,\n",
    "       order_status,\n",
    "       payment_method,\n",
    "       total_amount,\n",
    "       transaction_timestamp,\n",
    "       customer_id,\n",
    "       item.category,\n",
    "       item.details.brand,\n",
    "       item.details.color,\n",
    "       item.item_id,\n",
    "       item.name,\n",
    "       item.price,\n",
    "       item.quantity\n",
    "from v_orders_explode"
   ]
  },
  {
   "cell_type": "markdown",
   "metadata": {
    "application/vnd.databricks.v1+cell": {
     "cellMetadata": {},
     "inputWidgets": {},
     "nuid": "0a5a5332-6328-44ed-ac13-d8fd6d693318",
     "showTitle": false,
     "tableResultSettingsMap": {},
     "title": ""
    }
   },
   "source": [
    "#### Write the transformed data to Silver schema"
   ]
  },
  {
   "cell_type": "code",
   "execution_count": 0,
   "metadata": {
    "application/vnd.databricks.v1+cell": {
     "cellMetadata": {
      "byteLimit": 2048000,
      "rowLimit": 10000
     },
     "inputWidgets": {},
     "nuid": "c42adf6b-e8e7-4513-9020-fffe156812ea",
     "showTitle": false,
     "tableResultSettingsMap": {},
     "title": ""
    }
   },
   "outputs": [],
   "source": [
    "create table gizmobox.silver.orders\n",
    "as\n",
    "select \n",
    "       order_id,\n",
    "       order_status,\n",
    "       payment_method,\n",
    "       total_amount,\n",
    "       transaction_timestamp,\n",
    "       customer_id,\n",
    "       item.category,\n",
    "       item.details.brand,\n",
    "       item.details.color,\n",
    "       item.item_id,\n",
    "       item.name,\n",
    "       item.price,\n",
    "       item.quantity\n",
    "from v_orders_explode\n"
   ]
  },
  {
   "cell_type": "code",
   "execution_count": 0,
   "metadata": {
    "application/vnd.databricks.v1+cell": {
     "cellMetadata": {},
     "inputWidgets": {},
     "nuid": "31b06e58-c298-4f91-9264-3c2761b88925",
     "showTitle": false,
     "tableResultSettingsMap": {},
     "title": ""
    }
   },
   "outputs": [],
   "source": [
    "select * from gizmobox.silver.orders"
   ]
  }
 ],
 "metadata": {
  "application/vnd.databricks.v1+notebook": {
   "computePreferences": null,
   "dashboards": [],
   "environmentMetadata": {
    "base_environment": "",
    "environment_version": "2"
   },
   "inputWidgetPreferences": null,
   "language": "sql",
   "notebookMetadata": {
    "pythonIndentUnit": 4
   },
   "notebookName": "18.Transform_Order_data-Explode_Arrays",
   "widgets": {}
  },
  "language_info": {
   "name": "sql"
  }
 },
 "nbformat": 4,
 "nbformat_minor": 0
}
