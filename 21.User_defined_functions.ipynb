{
 "cells": [
  {
   "cell_type": "markdown",
   "metadata": {
    "application/vnd.databricks.v1+cell": {
     "cellMetadata": {
      "byteLimit": 2048000,
      "rowLimit": 10000
     },
     "inputWidgets": {},
     "nuid": "92607bc6-18a9-4534-b03c-535537a820e5",
     "showTitle": false,
     "tableResultSettingsMap": {},
     "title": ""
    }
   },
   "source": [
    "## User defined functions ( UDF )\n",
    "1. user defined functions(udf) in spark are custome functions created by users to extend the capabilities of spark SQL and puSpark\n",
    "1. UDF's allow us to perform calcualtions or tarnsformations to apply business logic that are not possible with built-in-functios\n",
    "1. You define the function once and use it accorss multiple queries\n",
    "1. SQL UDF's are recommented over Pythos UDF's due to better optimizations"
   ]
  },
  {
   "cell_type": "markdown",
   "metadata": {
    "application/vnd.databricks.v1+cell": {
     "cellMetadata": {
      "byteLimit": 2048000,
      "rowLimit": 10000
     },
     "inputWidgets": {},
     "nuid": "58ca5ca0-06d1-4566-afae-828367d7149d",
     "showTitle": false,
     "tableResultSettingsMap": {},
     "title": ""
    }
   },
   "source": [
    "#### Syntax:  \n",
    "---\n",
    "**CREATE FUNCTION** *catalogName.schemaName.UDF_Name(param_Name data_Type)*  \n",
    "**RETURNS** *return_type*  \n",
    "**RETURN** *expression*;  "
   ]
  },
  {
   "cell_type": "markdown",
   "metadata": {
    "application/vnd.databricks.v1+cell": {
     "cellMetadata": {
      "byteLimit": 2048000,
      "rowLimit": 10000
     },
     "inputWidgets": {},
     "nuid": "dd26d43b-4ff0-4fef-924d-9be548db0fac",
     "showTitle": false,
     "tableResultSettingsMap": {},
     "title": ""
    }
   },
   "source": [
    "#### UDF to extract the firstName and lastName then concatinate and returns the fullName"
   ]
  },
  {
   "cell_type": "code",
   "execution_count": 0,
   "metadata": {
    "application/vnd.databricks.v1+cell": {
     "cellMetadata": {
      "byteLimit": 2048000,
      "rowLimit": 10000
     },
     "inputWidgets": {},
     "nuid": "9742f8df-6ff0-47f5-864b-29e31f77c812",
     "showTitle": false,
     "tableResultSettingsMap": {},
     "title": ""
    }
   },
   "outputs": [],
   "source": [
    "CREATE OR REPLACE FUNCTION gizmobox.default.get_fullname(firstname string, surname string)\n",
    "RETURNS string\n",
    "RETURN concat(initcap(firstname),' ',initcap(surname));"
   ]
  },
  {
   "cell_type": "code",
   "execution_count": 0,
   "metadata": {
    "application/vnd.databricks.v1+cell": {
     "cellMetadata": {
      "byteLimit": 2048000,
      "rowLimit": 10000
     },
     "inputWidgets": {},
     "nuid": "0b66a595-fbe0-42ea-b013-1cda0b269a6c",
     "showTitle": false,
     "tableResultSettingsMap": {},
     "title": ""
    }
   },
   "outputs": [],
   "source": [
    "SELECT gizmobox.default.get_fullname('gijo','baby');"
   ]
  },
  {
   "cell_type": "code",
   "execution_count": 0,
   "metadata": {
    "application/vnd.databricks.v1+cell": {
     "cellMetadata": {
      "byteLimit": 2048000,
      "rowLimit": 10000
     },
     "inputWidgets": {},
     "nuid": "81f76aca-c644-41cf-a957-11ae07649e03",
     "showTitle": false,
     "tableResultSettingsMap": {},
     "title": ""
    }
   },
   "outputs": [],
   "source": [
    "DESCRIBE FUNCTION EXTENDED gizmobox.default.get_fullname;"
   ]
  },
  {
   "cell_type": "markdown",
   "metadata": {
    "application/vnd.databricks.v1+cell": {
     "cellMetadata": {
      "byteLimit": 2048000,
      "rowLimit": 10000
     },
     "inputWidgets": {},
     "nuid": "5d6c72ca-5601-4f59-b6d0-78f4eb39730a",
     "showTitle": false,
     "tableResultSettingsMap": {},
     "title": ""
    }
   },
   "source": [
    "#### Create the UDF for payment_status to convert the digits into its respeciive descriptions"
   ]
  },
  {
   "cell_type": "code",
   "execution_count": 0,
   "metadata": {
    "application/vnd.databricks.v1+cell": {
     "cellMetadata": {
      "byteLimit": 2048000,
      "rowLimit": 10000
     },
     "inputWidgets": {},
     "nuid": "8b61522f-9f09-47e7-b343-1d0b6b94f5af",
     "showTitle": false,
     "tableResultSettingsMap": {},
     "title": ""
    }
   },
   "outputs": [],
   "source": [
    "CREATE OR REPLACE FUNCTION gizmobox.default.get_payment_status(payment_status int)\n",
    "RETURNS string\n",
    "RETURN case when payment_status = 1 then 'Success'\n",
    "\t\t\twhen payment_status = 2 then 'Pending'\n",
    "\t\t\twhen payment_status = 3 then 'Cancelled'\n",
    "\t\t\twhen payment_status = 4 then 'Failed'\n",
    "\t\tend;"
   ]
  },
  {
   "cell_type": "code",
   "execution_count": 0,
   "metadata": {
    "application/vnd.databricks.v1+cell": {
     "cellMetadata": {
      "byteLimit": 2048000,
      "rowLimit": 10000
     },
     "inputWidgets": {},
     "nuid": "e9ccbd3e-87c8-4313-8c74-1e26a18d92d5",
     "showTitle": false,
     "tableResultSettingsMap": {},
     "title": ""
    }
   },
   "outputs": [],
   "source": [
    "SELECT \n",
    "\tpaymentId,\n",
    "\torder_id,\n",
    "\tcast(date_format(payment_timestamp,'yyyy-MM-dd') as date) as payment_date,\n",
    "\tdate_format(payment_timestamp,'HH:mm:ss') as payment_time,\n",
    "\tgizmobox.default.get_payment_status(payment_status) as payment_status,\n",
    "\tpayment_method\n",
    "FROM gizmobox.bronze.payments;"
   ]
  },
  {
   "cell_type": "code",
   "execution_count": 0,
   "metadata": {
    "application/vnd.databricks.v1+cell": {
     "cellMetadata": {
      "byteLimit": 2048000,
      "rowLimit": 10000
     },
     "inputWidgets": {},
     "nuid": "e42a3fe6-2d4f-43a0-a6f9-5cce2a168c6f",
     "showTitle": false,
     "tableResultSettingsMap": {},
     "title": ""
    }
   },
   "outputs": [],
   "source": []
  }
 ],
 "metadata": {
  "application/vnd.databricks.v1+notebook": {
   "computePreferences": null,
   "dashboards": [],
   "environmentMetadata": {
    "base_environment": "",
    "environment_version": "2"
   },
   "inputWidgetPreferences": null,
   "language": "sql",
   "notebookMetadata": {},
   "notebookName": "21.User_defined_functions",
   "widgets": {}
  },
  "language_info": {
   "name": "sql"
  }
 },
 "nbformat": 4,
 "nbformat_minor": 0
}
