{
 "cells": [
  {
   "cell_type": "markdown",
   "metadata": {
    "application/vnd.databricks.v1+cell": {
     "cellMetadata": {},
     "inputWidgets": {},
     "nuid": "5fe9a2b6-9507-420b-8447-fda5f4843fcd",
     "showTitle": false,
     "tableResultSettingsMap": {},
     "title": ""
    }
   },
   "source": [
    "## Higher Order Functions\n",
    "1. Higher order functions are functions that operorates on complex data types such as arrays and maps\n",
    "1. They allow you to pass functions as arugments ( such as lambda expressions), applay transformations and returns arrays or maps\n",
    "1. they are extremly usefull for manupulating arrays without exploding them"
   ]
  },
  {
   "cell_type": "markdown",
   "metadata": {
    "application/vnd.databricks.v1+cell": {
     "cellMetadata": {},
     "inputWidgets": {},
     "nuid": "63fbd1f4-d32f-4e22-b20b-1e255c5c7528",
     "showTitle": false,
     "tableResultSettingsMap": {},
     "title": ""
    }
   },
   "source": [
    "#### Commonly used higher order Array functions\n",
    "1. TRANSFORM\n",
    "1. FILTER\n",
    "1. EXISTS\n",
    "1. AGGREGATE"
   ]
  },
  {
   "cell_type": "markdown",
   "metadata": {
    "application/vnd.databricks.v1+cell": {
     "cellMetadata": {},
     "inputWidgets": {},
     "nuid": "89867a7e-ba4d-44b9-afe5-befddff3f14e",
     "showTitle": false,
     "tableResultSettingsMap": {},
     "title": ""
    }
   },
   "source": [
    "## Syntax\n",
    "---\n",
    "**Function_name** (array_column, lambda_expression)\n",
    "\n",
    "*lambda_expression : elemet -> expression*"
   ]
  },
  {
   "cell_type": "code",
   "execution_count": 0,
   "metadata": {
    "application/vnd.databricks.v1+cell": {
     "cellMetadata": {
      "byteLimit": 2048000,
      "rowLimit": 10000
     },
     "inputWidgets": {},
     "nuid": "f87f8ef4-af61-46f2-b0ca-cd1d94ebfac4",
     "showTitle": false,
     "tableResultSettingsMap": {},
     "title": ""
    }
   },
   "outputs": [],
   "source": [
    "\n",
    "create or replace temporary view order_items as \n",
    "select * from \n",
    "values\n",
    "(1, array('smartphone','laptop', 'monitor')),\n",
    "(1, array('tablet','headphones', 'smartwatche')),\n",
    "(1, array('keyboard','mouse'))\n",
    "as orders(order_id,items);"
   ]
  },
  {
   "cell_type": "code",
   "execution_count": 0,
   "metadata": {
    "application/vnd.databricks.v1+cell": {
     "cellMetadata": {
      "byteLimit": 2048000,
      "rowLimit": 10000
     },
     "inputWidgets": {},
     "nuid": "dba27c30-d6f2-4fd9-8d68-d0e601a08f9a",
     "showTitle": false,
     "tableResultSettingsMap": {},
     "title": ""
    }
   },
   "outputs": [],
   "source": [
    "select * from order_items ;"
   ]
  },
  {
   "cell_type": "markdown",
   "metadata": {
    "application/vnd.databricks.v1+cell": {
     "cellMetadata": {},
     "inputWidgets": {},
     "nuid": "4a930e68-f74b-407d-b719-9dce41f74751",
     "showTitle": false,
     "tableResultSettingsMap": {},
     "title": ""
    }
   },
   "source": [
    "#### 1. convert all the items names to be UPPERCASE ( TRANSFORM Functions )"
   ]
  },
  {
   "cell_type": "code",
   "execution_count": 0,
   "metadata": {
    "application/vnd.databricks.v1+cell": {
     "cellMetadata": {
      "byteLimit": 2048000,
      "rowLimit": 10000
     },
     "inputWidgets": {},
     "nuid": "1ede8bcd-e67a-4316-a99e-e3ba21fd5e17",
     "showTitle": false,
     "tableResultSettingsMap": {},
     "title": ""
    }
   },
   "outputs": [],
   "source": [
    "select \n",
    "\torder_id,\n",
    "\tTRANSFORM(items,x -> UPPER(x)) as upper_items\n",
    "from order_items;"
   ]
  },
  {
   "cell_type": "markdown",
   "metadata": {
    "application/vnd.databricks.v1+cell": {
     "cellMetadata": {},
     "inputWidgets": {},
     "nuid": "86613951-13d0-443c-b460-5cb81774c2ce",
     "showTitle": false,
     "tableResultSettingsMap": {},
     "title": ""
    }
   },
   "source": [
    "#### 2. Filter only items that contains the string 'smart' ( FILTER Function )"
   ]
  },
  {
   "cell_type": "code",
   "execution_count": 0,
   "metadata": {
    "application/vnd.databricks.v1+cell": {
     "cellMetadata": {
      "byteLimit": 2048000,
      "rowLimit": 10000
     },
     "inputWidgets": {},
     "nuid": "f37883d1-dcbf-482d-ad61-9e2277d70db5",
     "showTitle": false,
     "tableResultSettingsMap": {},
     "title": ""
    }
   },
   "outputs": [],
   "source": [
    "select \n",
    "\torder_id,\n",
    "\tFILTER(items,x -> x LIKE '%smart%') as smart_items\n",
    "from order_items;"
   ]
  },
  {
   "cell_type": "markdown",
   "metadata": {
    "application/vnd.databricks.v1+cell": {
     "cellMetadata": {},
     "inputWidgets": {},
     "nuid": "723b1710-bdaf-490c-ab22-56f6b83dd170",
     "showTitle": false,
     "tableResultSettingsMap": {},
     "title": ""
    }
   },
   "source": [
    "#### 3. Check to see theret the order includes any 'monitor' ( EXISTS Function )\n",
    "1. it will return the results in boolean value if the string existes in the array ( true / false )"
   ]
  },
  {
   "cell_type": "code",
   "execution_count": 0,
   "metadata": {
    "application/vnd.databricks.v1+cell": {
     "cellMetadata": {
      "byteLimit": 2048000,
      "rowLimit": 10000
     },
     "inputWidgets": {},
     "nuid": "5f9f1bfd-c4fb-4c69-ab72-95bd25a32a4b",
     "showTitle": false,
     "tableResultSettingsMap": {},
     "title": ""
    }
   },
   "outputs": [],
   "source": [
    "select \n",
    "\torder_id,\n",
    "\tEXISTS(items,x -> x = 'monitor') as has_monitor\n",
    "from order_items;"
   ]
  },
  {
   "cell_type": "markdown",
   "metadata": {
    "application/vnd.databricks.v1+cell": {
     "cellMetadata": {},
     "inputWidgets": {},
     "nuid": "69a50b80-54e8-46f1-a79f-4adacd58f3b9",
     "showTitle": false,
     "tableResultSettingsMap": {},
     "title": ""
    }
   },
   "source": [
    "### Arrays with more that one object"
   ]
  },
  {
   "cell_type": "code",
   "execution_count": 0,
   "metadata": {
    "application/vnd.databricks.v1+cell": {
     "cellMetadata": {
      "byteLimit": 2048000,
      "rowLimit": 10000
     },
     "inputWidgets": {},
     "nuid": "83ada486-f101-43c0-a1b0-2c6b9df8412b",
     "showTitle": false,
     "tableResultSettingsMap": {},
     "title": ""
    }
   },
   "outputs": [],
   "source": [
    "CREATE OR REPLACE TEMP VIEW order_items AS\n",
    "SELECT * FROM VALUES\n",
    "(1, array(\n",
    " named_struct('name', 'smartphone', 'price', 699),\n",
    " named_struct('name', 'laptop', 'price', 1199),\n",
    " named_struct('name', 'monitor', 'price', 399)\n",
    " )),\n",
    "(2, array(\n",
    " named_struct('name', 'tablet', 'price', 599), \n",
    " named_struct('name', 'headphones', 'price', 199), \n",
    " named_struct('name', 'smartwatch', 'price', 299)\n",
    ")),\n",
    "(3, array(\n",
    " named_struct('name', 'keyboard', 'price', 89), \n",
    " named_struct('name', 'mouse', 'price', 59)\n",
    "))\n",
    "AS orders(order_id, items);"
   ]
  },
  {
   "cell_type": "markdown",
   "metadata": {
    "application/vnd.databricks.v1+cell": {
     "cellMetadata": {},
     "inputWidgets": {},
     "nuid": "76a00281-d05e-488d-b1ee-0cdba4b49ba9",
     "showTitle": false,
     "tableResultSettingsMap": {},
     "title": ""
    }
   },
   "source": [
    "#### Convert all the item names to be UPPER and add 10% tax to each items ( TRANSFORM function)"
   ]
  },
  {
   "cell_type": "code",
   "execution_count": 0,
   "metadata": {
    "application/vnd.databricks.v1+cell": {
     "cellMetadata": {
      "byteLimit": 2048000,
      "rowLimit": 10000
     },
     "inputWidgets": {},
     "nuid": "4c92cec8-9ae8-4c48-840f-e3fda47e34df",
     "showTitle": false,
     "tableResultSettingsMap": {},
     "title": ""
    }
   },
   "outputs": [],
   "source": [
    "select * from order_items"
   ]
  },
  {
   "cell_type": "code",
   "execution_count": 0,
   "metadata": {
    "application/vnd.databricks.v1+cell": {
     "cellMetadata": {
      "byteLimit": 2048000,
      "rowLimit": 10000
     },
     "inputWidgets": {},
     "nuid": "e501645d-f5c7-42c4-bf77-0c52e9838b4f",
     "showTitle": false,
     "tableResultSettingsMap": {},
     "title": ""
    }
   },
   "outputs": [],
   "source": [
    "select order_id,\n",
    "TRANSFORM(items, x -> named_struct(\n",
    "                                   'name', upper(x.name),\n",
    "                                   'price', ROUND(x.price * 1.10 , 2)\n",
    "\t\t\t\t\t\t\t\t   )) as Items_with_Tax\n",
    "from order_items"
   ]
  },
  {
   "cell_type": "markdown",
   "metadata": {
    "application/vnd.databricks.v1+cell": {
     "cellMetadata": {},
     "inputWidgets": {},
     "nuid": "b5773d42-1de8-4193-b702-b1359782dc31",
     "showTitle": false,
     "tableResultSettingsMap": {},
     "title": ""
    }
   },
   "source": [
    "#### 2. calcualte the total order amount for each of the orders ( aggregate function)\n"
   ]
  },
  {
   "cell_type": "code",
   "execution_count": 0,
   "metadata": {
    "application/vnd.databricks.v1+cell": {
     "cellMetadata": {
      "byteLimit": 2048000,
      "rowLimit": 10000
     },
     "inputWidgets": {},
     "nuid": "a8c0d7a7-1cd2-44e3-a091-3a50c4433592",
     "showTitle": false,
     "tableResultSettingsMap": {},
     "title": ""
    }
   },
   "outputs": [],
   "source": [
    "\n",
    "select \n",
    "\torder_id,\n",
    "\taggregate(items, 0 ,(acc, x) -> acc + x.price) as total_order_price\n",
    "from order_items"
   ]
  },
  {
   "cell_type": "code",
   "execution_count": 0,
   "metadata": {
    "application/vnd.databricks.v1+cell": {
     "cellMetadata": {},
     "inputWidgets": {},
     "nuid": "91ffc76c-4f74-4cfe-830b-4ecf006fca17",
     "showTitle": false,
     "tableResultSettingsMap": {},
     "title": ""
    }
   },
   "outputs": [],
   "source": []
  }
 ],
 "metadata": {
  "application/vnd.databricks.v1+notebook": {
   "computePreferences": null,
   "dashboards": [],
   "environmentMetadata": {
    "base_environment": "",
    "environment_version": "2"
   },
   "inputWidgetPreferences": null,
   "language": "sql",
   "notebookMetadata": {},
   "notebookName": "22.Higher_Order_Functions-ARRAY_Functions",
   "widgets": {}
  },
  "language_info": {
   "name": "sql"
  }
 },
 "nbformat": 4,
 "nbformat_minor": 0
}
