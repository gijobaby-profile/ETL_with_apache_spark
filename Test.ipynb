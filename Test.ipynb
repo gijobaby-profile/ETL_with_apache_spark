{
 "cells": [
  {
   "cell_type": "code",
   "execution_count": 0,
   "metadata": {
    "application/vnd.databricks.v1+cell": {
     "cellMetadata": {
      "byteLimit": 2048000,
      "rowLimit": 10000
     },
     "inputWidgets": {},
     "nuid": "c0213578-e913-4da9-8b06-e4b84983b60e",
     "showTitle": false,
     "tableResultSettingsMap": {},
     "title": ""
    }
   },
   "outputs": [],
   "source": [
    "create or replace temp view v_item_array\n",
    "as\n",
    "SELECT * FROM VALUES\n",
    "  (\n",
    "    1,'Gijo',32,\n",
    "    array(\n",
    "      named_struct('item', 'book', 'price', 10),\n",
    "      named_struct('item', 'pen', 'price', 2)\n",
    "    )\n",
    "  ),\n",
    "  (\n",
    "    2,'Rino',33,\n",
    "    array(\n",
    "      named_struct('item', 'notebook', 'price', 15),\n",
    "      named_struct('item', 'pencil', 'price', 1)\n",
    "    )\n",
    "  )\n",
    "AS users(user_id,name,age, orders);"
   ]
  },
  {
   "cell_type": "code",
   "execution_count": 0,
   "metadata": {
    "application/vnd.databricks.v1+cell": {
     "cellMetadata": {
      "byteLimit": 2048000,
      "rowLimit": 10000
     },
     "inputWidgets": {},
     "nuid": "416f1606-5ff1-438b-9496-38b07996ea30",
     "showTitle": false,
     "tableResultSettingsMap": {},
     "title": ""
    }
   },
   "outputs": [],
   "source": [
    "select * from v_item_array"
   ]
  },
  {
   "cell_type": "code",
   "execution_count": 0,
   "metadata": {
    "application/vnd.databricks.v1+cell": {
     "cellMetadata": {
      "byteLimit": 2048000,
      "rowLimit": 10000
     },
     "inputWidgets": {},
     "nuid": "aa16bb28-057b-4d07-bff7-406f837de54b",
     "showTitle": false,
     "tableResultSettingsMap": {},
     "title": ""
    }
   },
   "outputs": [],
   "source": [
    "select \n",
    "user_id,\n",
    "name,\n",
    "age,\n",
    "transform(orders, x -> named_struct('items',x.item)) as items,\n",
    "transform(orders, x -> x.price) as price \n",
    "from v_item_array"
   ]
  }
 ],
 "metadata": {
  "application/vnd.databricks.v1+notebook": {
   "computePreferences": null,
   "dashboards": [],
   "environmentMetadata": {
    "base_environment": "",
    "environment_version": "2"
   },
   "inputWidgetPreferences": null,
   "language": "sql",
   "notebookMetadata": {},
   "notebookName": "Test",
   "widgets": {}
  },
  "language_info": {
   "name": "sql"
  }
 },
 "nbformat": 4,
 "nbformat_minor": 0
}
